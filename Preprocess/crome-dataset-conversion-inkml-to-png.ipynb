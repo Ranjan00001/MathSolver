{
 "cells": [
  {
   "cell_type": "code",
   "execution_count": 4,
   "metadata": {
    "execution": {
     "iopub.execute_input": "2024-11-17T04:53:42.782054Z",
     "iopub.status.busy": "2024-11-17T04:53:42.781528Z",
     "iopub.status.idle": "2024-11-17T04:53:42.788227Z",
     "shell.execute_reply": "2024-11-17T04:53:42.786880Z",
     "shell.execute_reply.started": "2024-11-17T04:53:42.782007Z"
    },
    "trusted": true
   },
   "outputs": [],
   "source": [
    "import os\n",
    "import numpy as np\n",
    "import matplotlib.pyplot as plt\n",
    "import xml.etree.ElementTree as ET\n",
    "from tqdm import tqdm"
   ]
  },
  {
   "cell_type": "code",
   "execution_count": 5,
   "metadata": {
    "execution": {
     "iopub.execute_input": "2024-11-17T04:53:46.585718Z",
     "iopub.status.busy": "2024-11-17T04:53:46.585273Z",
     "iopub.status.idle": "2024-11-17T04:53:46.591443Z",
     "shell.execute_reply": "2024-11-17T04:53:46.590267Z",
     "shell.execute_reply.started": "2024-11-17T04:53:46.585676Z"
    },
    "trusted": true
   },
   "outputs": [],
   "source": [
    "# Ensure all directories exist or create them\n",
    "def create_dir(directory):\n",
    "    if not os.path.exists(directory):\n",
    "        os.makedirs(directory)"
   ]
  },
  {
   "cell_type": "code",
   "execution_count": 6,
   "metadata": {
    "execution": {
     "iopub.execute_input": "2024-11-17T04:53:51.066508Z",
     "iopub.status.busy": "2024-11-17T04:53:51.065986Z",
     "iopub.status.idle": "2024-11-17T04:53:51.082954Z",
     "shell.execute_reply": "2024-11-17T04:53:51.081765Z",
     "shell.execute_reply.started": "2024-11-17T04:53:51.066458Z"
    },
    "trusted": true
   },
   "outputs": [],
   "source": [
    "\n",
    "# Extract trace data from an InkML file\n",
    "def get_traces_data(inkml_file_abs_path):\n",
    "    traces_data = []\n",
    "    tree = ET.parse(inkml_file_abs_path)\n",
    "    root = tree.getroot()\n",
    "    doc_namespace = \"{http://www.w3.org/2003/InkML}\"\n",
    "    \n",
    "    # Retrieve all traces with their coordinates\n",
    "    traces_all = [{'id': trace_tag.get('id'),\n",
    "                   'coords': [[round(float(axis_coord)) if float(axis_coord).is_integer() else round(float(axis_coord) * 10000)\n",
    "                              for axis_coord in coord.strip().split(' ')]\n",
    "                             for coord in (trace_tag.text).replace('\\n', '').split(',')]}\n",
    "                  for trace_tag in root.findall(doc_namespace + 'trace')]\n",
    "\n",
    "    traces_all.sort(key=lambda trace_dict: int(trace_dict['id']))\n",
    "    traceGroupWrapper = root.find(doc_namespace + 'traceGroup')\n",
    "    \n",
    "    if traceGroupWrapper is not None:\n",
    "        for traceGroup in traceGroupWrapper.findall(doc_namespace + 'traceGroup'):\n",
    "            label = traceGroup.find(doc_namespace + 'annotation').text\n",
    "            traces_curr = []\n",
    "            for traceView in traceGroup.findall(doc_namespace + 'traceView'):\n",
    "                traceDataRef = int(traceView.get('traceDataRef'))\n",
    "                single_trace = traces_all[traceDataRef]['coords']\n",
    "                traces_curr.append(single_trace)\n",
    "            traces_data.append({'label': label, 'trace_group': traces_curr})\n",
    "    else:\n",
    "        [traces_data.append({'trace_group': [trace['coords']]}) for trace in traces_all]\n",
    "    \n",
    "    return traces_data"
   ]
  },
  {
   "cell_type": "code",
   "execution_count": 7,
   "metadata": {
    "execution": {
     "iopub.execute_input": "2024-11-17T04:53:56.427865Z",
     "iopub.status.busy": "2024-11-17T04:53:56.426778Z",
     "iopub.status.idle": "2024-11-17T04:53:56.439104Z",
     "shell.execute_reply": "2024-11-17T04:53:56.437548Z",
     "shell.execute_reply.started": "2024-11-17T04:53:56.427817Z"
    },
    "trusted": true
   },
   "outputs": [],
   "source": [
    "# Function to convert InkML to PNG while maintaining the structure\n",
    "def inkml_to_png(input_path, output_base_path, relative_subdir):\n",
    "    traces = get_traces_data(input_path)\n",
    "    file_base_name = os.path.basename(input_path).split('.')[0]  # Use file name without underscore\n",
    "\n",
    "    # Combine the output_base_path with the relative subdirectory to maintain the structure\n",
    "    output_folder = os.path.join(output_base_path, relative_subdir)\n",
    "    create_dir(output_folder)\n",
    "    \n",
    "    for idx, elem in enumerate(traces):\n",
    "        # Create a new plot for each trace group\n",
    "        plt.gca().invert_yaxis()\n",
    "        plt.gca().set_aspect('equal', adjustable='box')\n",
    "        plt.axis('off')\n",
    "\n",
    "        for stroke in elem['trace_group']:\n",
    "            data = np.array(stroke)\n",
    "            x, y = zip(*data)\n",
    "            plt.plot(x, y, linewidth=2, color='black')\n",
    "        \n",
    "        label = 'unknown' if 'label' not in elem else elem['label']\n",
    "        if label in ['A', 'B', 'C', 'F', 'X', 'Y']:\n",
    "            label = 'capital_' + label\n",
    "        \n",
    "        # Save in the respective label folder within the subdirectory\n",
    "        labeled_output_folder = os.path.join(output_folder, label)\n",
    "        create_dir(labeled_output_folder)\n",
    "        \n",
    "        # Use file_base_name with PNG index for unique filenames\n",
    "        output_file_path = os.path.join(labeled_output_folder, f\"{file_base_name}_{idx}.png\")\n",
    "        plt.savefig(output_file_path, bbox_inches='tight', dpi=100)\n",
    "        plt.close()"
   ]
  },
  {
   "cell_type": "code",
   "execution_count": 10,
   "metadata": {
    "execution": {
     "iopub.execute_input": "2024-11-17T04:54:51.192982Z",
     "iopub.status.busy": "2024-11-17T04:54:51.192488Z",
     "iopub.status.idle": "2024-11-17T04:54:51.200961Z",
     "shell.execute_reply": "2024-11-17T04:54:51.199762Z",
     "shell.execute_reply.started": "2024-11-17T04:54:51.192932Z"
    },
    "trusted": true
   },
   "outputs": [],
   "source": [
    "# Main processing function\n",
    "def process_inkml_files(input_dir, output_dir):\n",
    "    create_dir(output_dir)\n",
    "    \n",
    "    for root, _, files in os.walk(input_dir):\n",
    "        # Calculate the relative subdirectory path from the input directory\n",
    "        relative_subdir = os.path.relpath(root, input_dir)\n",
    "        output_subdir = os.path.join(output_dir, relative_subdir)\n",
    "        create_dir(output_subdir)\n",
    "        \n",
    "        for file in tqdm(files):\n",
    "            if file.endswith('.inkml'):\n",
    "                input_file_path = os.path.join(root, file)\n",
    "                \n",
    "                # Convert and save the PNG in the corresponding output subdirectory\n",
    "                inkml_to_png(input_file_path, output_dir, relative_subdir)\n",
    "                return"
   ]
  },
  {
   "cell_type": "code",
   "execution_count": null,
   "metadata": {
    "execution": {
     "iopub.execute_input": "2024-11-17T04:54:27.261763Z",
     "iopub.status.busy": "2024-11-17T04:54:27.261176Z",
     "iopub.status.idle": "2024-11-17T04:54:37.675276Z",
     "shell.execute_reply": "2024-11-17T04:54:37.673716Z",
     "shell.execute_reply.started": "2024-11-17T04:54:27.261712Z"
    },
    "trusted": true
   },
   "outputs": [],
   "source": [
    "\n",
    "# Example usage in Kaggle\n",
    "input_path = '/kaggle/input/handwritten-mathematical-expressions'\n",
    "output_path = '/kaggle/working/CHROME_png1'\n",
    "process_inkml_files(input_path, output_path)"
   ]
  }
 ],
 "metadata": {
  "kaggle": {
   "accelerator": "none",
   "dataSources": [
    {
     "datasetId": 1906,
     "sourceId": 3296,
     "sourceType": "datasetVersion"
    },
    {
     "datasetId": 6097408,
     "sourceId": 9921178,
     "sourceType": "datasetVersion"
    }
   ],
   "dockerImageVersionId": 30786,
   "isGpuEnabled": false,
   "isInternetEnabled": true,
   "language": "python",
   "sourceType": "notebook"
  },
  "kernelspec": {
   "display_name": "Python 3",
   "language": "python",
   "name": "python3"
  },
  "language_info": {
   "codemirror_mode": {
    "name": "ipython",
    "version": 3
   },
   "file_extension": ".py",
   "mimetype": "text/x-python",
   "name": "python",
   "nbconvert_exporter": "python",
   "pygments_lexer": "ipython3",
   "version": "3.10.14"
  }
 },
 "nbformat": 4,
 "nbformat_minor": 4
}
